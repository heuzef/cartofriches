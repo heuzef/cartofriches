{
 "cells": [
  {
   "cell_type": "markdown",
   "id": "1506d472-22be-490c-aa19-8fce0737d4ce",
   "metadata": {
    "editable": true,
    "id": "1506d472-22be-490c-aa19-8fce0737d4ce",
    "tags": []
   },
   "source": [
    "<div style=\"\n",
    "    background-color:rgb(210, 230, 255);\n",
    "    color:rgb(0, 0, 0);\n",
    "    padding: 10px;\n",
    "    border-radius: 10px;\n",
    "    font-weight: bold;\">\n",
    "<h3>Modèle d'apprentissage automatique pour la prédiction d’usage le plus probable d'une friche en France</h3>\n",
    "<ul>\n",
    "    <li>Dans le cadre du projet PROFIL : https://github.com/heuzef/cartofriches</li>\n",
    "    <li>Auteurs : Heuzef (https://heuzef.com) ; Frédéric Vincent (frederic.vincent@protonmail.com)</li>\n",
    "    <li>Juin 2025</li>\n",
    "    <li>Destiné au CEREMA</li>\n",
    "    <li>Les données exploitées sont issues data.gouv.fr, respectant le Standard Friches (version 2022 - rev. v2023-12)</li>\n",
    "</div>"
   ]
  },
  {
   "cell_type": "markdown",
   "id": "7ef26b76",
   "metadata": {
    "id": "7ef26b76"
   },
   "source": [
    "# Import des librairies"
   ]
  },
  {
   "cell_type": "code",
   "execution_count": 2,
   "id": "7d4b0fa5",
   "metadata": {
    "colab": {
     "base_uri": "https://localhost:8080/"
    },
    "id": "7d4b0fa5",
    "outputId": "46a80828-0baf-4942-cc5e-d88680948a97"
   },
   "outputs": [
    {
     "name": "stdout",
     "output_type": "stream",
     "text": [
      "Requirement already satisfied: pandas in /home/fred/venv/notebook/lib/python3.12/site-packages (from -r requirements.txt (line 1)) (2.2.3)\n",
      "Requirement already satisfied: numpy in /home/fred/venv/notebook/lib/python3.12/site-packages (from -r requirements.txt (line 2)) (2.1.0)\n",
      "Requirement already satisfied: matplotlib in /home/fred/venv/notebook/lib/python3.12/site-packages (from -r requirements.txt (line 3)) (3.10.0)\n",
      "Requirement already satisfied: seaborn in /home/fred/venv/notebook/lib/python3.12/site-packages (from -r requirements.txt (line 4)) (0.13.2)\n",
      "Requirement already satisfied: jinja2 in /home/fred/venv/notebook/lib/python3.12/site-packages (from -r requirements.txt (line 5)) (3.1.5)\n",
      "Requirement already satisfied: python-dateutil>=2.8.2 in /home/fred/venv/notebook/lib/python3.12/site-packages (from pandas->-r requirements.txt (line 1)) (2.9.0.post0)\n",
      "Requirement already satisfied: pytz>=2020.1 in /home/fred/venv/notebook/lib/python3.12/site-packages (from pandas->-r requirements.txt (line 1)) (2024.2)\n",
      "Requirement already satisfied: tzdata>=2022.7 in /home/fred/venv/notebook/lib/python3.12/site-packages (from pandas->-r requirements.txt (line 1)) (2024.2)\n",
      "Requirement already satisfied: contourpy>=1.0.1 in /home/fred/venv/notebook/lib/python3.12/site-packages (from matplotlib->-r requirements.txt (line 3)) (1.3.1)\n",
      "Requirement already satisfied: cycler>=0.10 in /home/fred/venv/notebook/lib/python3.12/site-packages (from matplotlib->-r requirements.txt (line 3)) (0.12.1)\n",
      "Requirement already satisfied: fonttools>=4.22.0 in /home/fred/venv/notebook/lib/python3.12/site-packages (from matplotlib->-r requirements.txt (line 3)) (4.55.3)\n",
      "Requirement already satisfied: kiwisolver>=1.3.1 in /home/fred/venv/notebook/lib/python3.12/site-packages (from matplotlib->-r requirements.txt (line 3)) (1.4.8)\n",
      "Requirement already satisfied: packaging>=20.0 in /home/fred/venv/notebook/lib/python3.12/site-packages (from matplotlib->-r requirements.txt (line 3)) (24.2)\n",
      "Requirement already satisfied: pillow>=8 in /home/fred/venv/notebook/lib/python3.12/site-packages (from matplotlib->-r requirements.txt (line 3)) (11.1.0)\n",
      "Requirement already satisfied: pyparsing>=2.3.1 in /home/fred/venv/notebook/lib/python3.12/site-packages (from matplotlib->-r requirements.txt (line 3)) (3.2.1)\n",
      "Requirement already satisfied: MarkupSafe>=2.0 in /home/fred/venv/notebook/lib/python3.12/site-packages (from jinja2->-r requirements.txt (line 5)) (3.0.2)\n",
      "Requirement already satisfied: six>=1.5 in /home/fred/venv/notebook/lib/python3.12/site-packages (from python-dateutil>=2.8.2->pandas->-r requirements.txt (line 1)) (1.17.0)\n"
     ]
    }
   ],
   "source": [
    "!pip install -r requirements.txt"
   ]
  },
  {
   "cell_type": "code",
   "execution_count": 3,
   "id": "37466eaa",
   "metadata": {
    "id": "37466eaa"
   },
   "outputs": [],
   "source": [
    "import pandas as pd\n",
    "pd.set_option('future.no_silent_downcasting', True)\n",
    "import numpy as np\n",
    "import matplotlib.pyplot as plt\n",
    "import seaborn as sns\n",
    "import jinja2\n",
    "import re"
   ]
  },
  {
   "cell_type": "markdown",
   "id": "ca71c9cf",
   "metadata": {
    "id": "ca71c9cf"
   },
   "source": [
    "# Chargement des données"
   ]
  },
  {
   "cell_type": "code",
   "execution_count": 4,
   "id": "8098963f",
   "metadata": {},
   "outputs": [
    {
     "name": "stdout",
     "output_type": "stream",
     "text": [
      "Données des sites référencés dans Cartofriches disponible sur data.gouv.fr (respectant le standard CNIG) :\n",
      "2331 friches chargées — 26 variables\n",
      "Pas de doublon detectés\n"
     ]
    },
    {
     "data": {
      "text/html": [
       "<div>\n",
       "<style scoped>\n",
       "    .dataframe tbody tr th:only-of-type {\n",
       "        vertical-align: middle;\n",
       "    }\n",
       "\n",
       "    .dataframe tbody tr th {\n",
       "        vertical-align: top;\n",
       "    }\n",
       "\n",
       "    .dataframe thead th {\n",
       "        text-align: right;\n",
       "    }\n",
       "</style>\n",
       "<table border=\"1\" class=\"dataframe\">\n",
       "  <thead>\n",
       "    <tr style=\"text-align: right;\">\n",
       "      <th></th>\n",
       "      <th>site_type</th>\n",
       "      <th>site_securite</th>\n",
       "      <th>site_occupation</th>\n",
       "      <th>site_reconv_type</th>\n",
       "      <th>bati_type</th>\n",
       "      <th>bati_nombre</th>\n",
       "      <th>bati_pollution</th>\n",
       "      <th>bati_vacance</th>\n",
       "      <th>bati_etat</th>\n",
       "      <th>proprio_personne</th>\n",
       "      <th>...</th>\n",
       "      <th>uzf_activite_agricole</th>\n",
       "      <th>uzf_activite_economique</th>\n",
       "      <th>uzf_autres</th>\n",
       "      <th>uzf_equipements_public</th>\n",
       "      <th>uzf_espace_naturel</th>\n",
       "      <th>uzf_espace_remarquable</th>\n",
       "      <th>uzf_habitat</th>\n",
       "      <th>uzf_loisirs_et_tourisme</th>\n",
       "      <th>uzf_mixte_habitat_activite</th>\n",
       "      <th>uzf_sans_objet_ou_non_encore_definie_dans_le_reglement</th>\n",
       "    </tr>\n",
       "  </thead>\n",
       "  <tbody>\n",
       "    <tr>\n",
       "      <th>0</th>\n",
       "      <td>friche d'habitat</td>\n",
       "      <td>0</td>\n",
       "      <td>NaN</td>\n",
       "      <td>0</td>\n",
       "      <td>NaN</td>\n",
       "      <td>2</td>\n",
       "      <td>NaN</td>\n",
       "      <td>NaN</td>\n",
       "      <td>NaN</td>\n",
       "      <td>personne morale</td>\n",
       "      <td>...</td>\n",
       "      <td>0</td>\n",
       "      <td>0</td>\n",
       "      <td>1</td>\n",
       "      <td>0</td>\n",
       "      <td>0</td>\n",
       "      <td>0</td>\n",
       "      <td>0</td>\n",
       "      <td>0</td>\n",
       "      <td>0</td>\n",
       "      <td>0</td>\n",
       "    </tr>\n",
       "    <tr>\n",
       "      <th>1</th>\n",
       "      <td>friche d'habitat</td>\n",
       "      <td>0</td>\n",
       "      <td>NaN</td>\n",
       "      <td>0</td>\n",
       "      <td>NaN</td>\n",
       "      <td>2</td>\n",
       "      <td>NaN</td>\n",
       "      <td>NaN</td>\n",
       "      <td>dégradation moyenne</td>\n",
       "      <td>personne physique</td>\n",
       "      <td>...</td>\n",
       "      <td>0</td>\n",
       "      <td>0</td>\n",
       "      <td>1</td>\n",
       "      <td>0</td>\n",
       "      <td>0</td>\n",
       "      <td>0</td>\n",
       "      <td>0</td>\n",
       "      <td>0</td>\n",
       "      <td>0</td>\n",
       "      <td>0</td>\n",
       "    </tr>\n",
       "    <tr>\n",
       "      <th>2</th>\n",
       "      <td>friche agro-industrielle</td>\n",
       "      <td>0</td>\n",
       "      <td>NaN</td>\n",
       "      <td>1</td>\n",
       "      <td>NaN</td>\n",
       "      <td>0</td>\n",
       "      <td>NaN</td>\n",
       "      <td>NaN</td>\n",
       "      <td>NaN</td>\n",
       "      <td>personne physique</td>\n",
       "      <td>...</td>\n",
       "      <td>0</td>\n",
       "      <td>0</td>\n",
       "      <td>1</td>\n",
       "      <td>0</td>\n",
       "      <td>0</td>\n",
       "      <td>0</td>\n",
       "      <td>0</td>\n",
       "      <td>0</td>\n",
       "      <td>0</td>\n",
       "      <td>0</td>\n",
       "    </tr>\n",
       "    <tr>\n",
       "      <th>3</th>\n",
       "      <td>friche d'habitat</td>\n",
       "      <td>0</td>\n",
       "      <td>NaN</td>\n",
       "      <td>2</td>\n",
       "      <td>NaN</td>\n",
       "      <td>3</td>\n",
       "      <td>NaN</td>\n",
       "      <td>NaN</td>\n",
       "      <td>dégradation moyenne</td>\n",
       "      <td>personne physique</td>\n",
       "      <td>...</td>\n",
       "      <td>0</td>\n",
       "      <td>0</td>\n",
       "      <td>1</td>\n",
       "      <td>0</td>\n",
       "      <td>0</td>\n",
       "      <td>0</td>\n",
       "      <td>0</td>\n",
       "      <td>0</td>\n",
       "      <td>0</td>\n",
       "      <td>0</td>\n",
       "    </tr>\n",
       "    <tr>\n",
       "      <th>4</th>\n",
       "      <td>friche agro-industrielle</td>\n",
       "      <td>0</td>\n",
       "      <td>NaN</td>\n",
       "      <td>1</td>\n",
       "      <td>NaN</td>\n",
       "      <td>0</td>\n",
       "      <td>NaN</td>\n",
       "      <td>NaN</td>\n",
       "      <td>NaN</td>\n",
       "      <td>personne physique</td>\n",
       "      <td>...</td>\n",
       "      <td>1</td>\n",
       "      <td>0</td>\n",
       "      <td>0</td>\n",
       "      <td>0</td>\n",
       "      <td>0</td>\n",
       "      <td>0</td>\n",
       "      <td>0</td>\n",
       "      <td>0</td>\n",
       "      <td>0</td>\n",
       "      <td>0</td>\n",
       "    </tr>\n",
       "  </tbody>\n",
       "</table>\n",
       "<p>5 rows × 26 columns</p>\n",
       "</div>"
      ],
      "text/plain": [
       "                  site_type  site_securite site_occupation  site_reconv_type  \\\n",
       "0          friche d'habitat              0             NaN                 0   \n",
       "1          friche d'habitat              0             NaN                 0   \n",
       "2  friche agro-industrielle              0             NaN                 1   \n",
       "3          friche d'habitat              0             NaN                 2   \n",
       "4  friche agro-industrielle              0             NaN                 1   \n",
       "\n",
       "  bati_type  bati_nombre bati_pollution bati_vacance            bati_etat  \\\n",
       "0       NaN            2            NaN          NaN                  NaN   \n",
       "1       NaN            2            NaN          NaN  dégradation moyenne   \n",
       "2       NaN            0            NaN          NaN                  NaN   \n",
       "3       NaN            3            NaN          NaN  dégradation moyenne   \n",
       "4       NaN            0            NaN          NaN                  NaN   \n",
       "\n",
       "    proprio_personne  ... uzf_activite_agricole  uzf_activite_economique  \\\n",
       "0    personne morale  ...                     0                        0   \n",
       "1  personne physique  ...                     0                        0   \n",
       "2  personne physique  ...                     0                        0   \n",
       "3  personne physique  ...                     0                        0   \n",
       "4  personne physique  ...                     1                        0   \n",
       "\n",
       "  uzf_autres uzf_equipements_public  uzf_espace_naturel  \\\n",
       "0          1                      0                   0   \n",
       "1          1                      0                   0   \n",
       "2          1                      0                   0   \n",
       "3          1                      0                   0   \n",
       "4          0                      0                   0   \n",
       "\n",
       "   uzf_espace_remarquable  uzf_habitat  uzf_loisirs_et_tourisme  \\\n",
       "0                       0            0                        0   \n",
       "1                       0            0                        0   \n",
       "2                       0            0                        0   \n",
       "3                       0            0                        0   \n",
       "4                       0            0                        0   \n",
       "\n",
       "   uzf_mixte_habitat_activite  \\\n",
       "0                           0   \n",
       "1                           0   \n",
       "2                           0   \n",
       "3                           0   \n",
       "4                           0   \n",
       "\n",
       "   uzf_sans_objet_ou_non_encore_definie_dans_le_reglement  \n",
       "0                                                  0       \n",
       "1                                                  0       \n",
       "2                                                  0       \n",
       "3                                                  0       \n",
       "4                                                  0       \n",
       "\n",
       "[5 rows x 26 columns]"
      ]
     },
     "metadata": {},
     "output_type": "display_data"
    }
   ],
   "source": [
    "# Chargement des données silver\n",
    "\n",
    "df_friches_silver = pd.read_csv(\"./data/friches_silver.csv\", sep=\",\", low_memory=False)\n",
    "\n",
    "print(\"Données des sites référencés dans Cartofriches disponible sur data.gouv.fr (respectant le standard CNIG) :\")\n",
    "print(f\"{df_friches_silver.shape[0]} friches chargées — {df_friches_silver.shape[1]} variables\")\n",
    "print(\"Pas de doublon detectés\")\n",
    "\n",
    "display(df_friches_silver.head())"
   ]
  },
  {
   "cell_type": "markdown",
   "id": "b452ecb9-5881-4594-9636-38cea2f992d4",
   "metadata": {},
   "source": [
    "# Extraction des données numériques"
   ]
  },
  {
   "cell_type": "code",
   "execution_count": 5,
   "id": "d4ee16b3-a388-4400-bf9b-562de2841535",
   "metadata": {},
   "outputs": [
    {
     "name": "stdout",
     "output_type": "stream",
     "text": [
      "<class 'pandas.core.frame.DataFrame'>\n",
      "RangeIndex: 2331 entries, 0 to 2330\n",
      "Data columns (total 26 columns):\n",
      " #   Column                                                  Non-Null Count  Dtype  \n",
      "---  ------                                                  --------------  -----  \n",
      " 0   site_type                                               1997 non-null   object \n",
      " 1   site_securite                                           2331 non-null   int64  \n",
      " 2   site_occupation                                         439 non-null    object \n",
      " 3   site_reconv_type                                        2331 non-null   int64  \n",
      " 4   bati_type                                               433 non-null    object \n",
      " 5   bati_nombre                                             2331 non-null   int64  \n",
      " 6   bati_pollution                                          475 non-null    object \n",
      " 7   bati_vacance                                            430 non-null    object \n",
      " 8   bati_etat                                               1229 non-null   object \n",
      " 9   proprio_personne                                        2162 non-null   object \n",
      " 10  sol_pollution_existe                                    646 non-null    object \n",
      " 11  unite_fonciere_surface                                  2331 non-null   int64  \n",
      " 12  urba_zone_type                                          2077 non-null   object \n",
      " 13  urba_doc_type                                           2087 non-null   object \n",
      " 14  longitude                                               2331 non-null   float64\n",
      " 15  latitude                                                2331 non-null   float64\n",
      " 16  uzf_activite_agricole                                   2331 non-null   int64  \n",
      " 17  uzf_activite_economique                                 2331 non-null   int64  \n",
      " 18  uzf_autres                                              2331 non-null   int64  \n",
      " 19  uzf_equipements_public                                  2331 non-null   int64  \n",
      " 20  uzf_espace_naturel                                      2331 non-null   int64  \n",
      " 21  uzf_espace_remarquable                                  2331 non-null   int64  \n",
      " 22  uzf_habitat                                             2331 non-null   int64  \n",
      " 23  uzf_loisirs_et_tourisme                                 2331 non-null   int64  \n",
      " 24  uzf_mixte_habitat_activite                              2331 non-null   int64  \n",
      " 25  uzf_sans_objet_ou_non_encore_definie_dans_le_reglement  2331 non-null   int64  \n",
      "dtypes: float64(2), int64(14), object(10)\n",
      "memory usage: 473.6+ KB\n"
     ]
    }
   ],
   "source": [
    "df_friches_silver.info()"
   ]
  },
  {
   "cell_type": "code",
   "execution_count": 6,
   "id": "996f9a4d-18b5-429c-9714-a3a7c88e924b",
   "metadata": {},
   "outputs": [],
   "source": [
    "df_friches_silver_numeriques = df_friches_silver.select_dtypes(exclude=\"object\")"
   ]
  },
  {
   "cell_type": "code",
   "execution_count": 7,
   "id": "4375e3e3-59e9-4a02-874c-d7f6c54b13b4",
   "metadata": {},
   "outputs": [
    {
     "name": "stdout",
     "output_type": "stream",
     "text": [
      "<class 'pandas.core.frame.DataFrame'>\n",
      "RangeIndex: 2331 entries, 0 to 2330\n",
      "Data columns (total 16 columns):\n",
      " #   Column                                                  Non-Null Count  Dtype  \n",
      "---  ------                                                  --------------  -----  \n",
      " 0   site_securite                                           2331 non-null   int64  \n",
      " 1   site_reconv_type                                        2331 non-null   int64  \n",
      " 2   bati_nombre                                             2331 non-null   int64  \n",
      " 3   unite_fonciere_surface                                  2331 non-null   int64  \n",
      " 4   longitude                                               2331 non-null   float64\n",
      " 5   latitude                                                2331 non-null   float64\n",
      " 6   uzf_activite_agricole                                   2331 non-null   int64  \n",
      " 7   uzf_activite_economique                                 2331 non-null   int64  \n",
      " 8   uzf_autres                                              2331 non-null   int64  \n",
      " 9   uzf_equipements_public                                  2331 non-null   int64  \n",
      " 10  uzf_espace_naturel                                      2331 non-null   int64  \n",
      " 11  uzf_espace_remarquable                                  2331 non-null   int64  \n",
      " 12  uzf_habitat                                             2331 non-null   int64  \n",
      " 13  uzf_loisirs_et_tourisme                                 2331 non-null   int64  \n",
      " 14  uzf_mixte_habitat_activite                              2331 non-null   int64  \n",
      " 15  uzf_sans_objet_ou_non_encore_definie_dans_le_reglement  2331 non-null   int64  \n",
      "dtypes: float64(2), int64(14)\n",
      "memory usage: 291.5 KB\n"
     ]
    }
   ],
   "source": [
    "df_friches_silver_numeriques.info()"
   ]
  }
 ],
 "metadata": {
  "colab": {
   "provenance": []
  },
  "kernelspec": {
   "display_name": "Python 3 (ipykernel)",
   "language": "python",
   "name": "python3"
  },
  "language_info": {
   "codemirror_mode": {
    "name": "ipython",
    "version": 3
   },
   "file_extension": ".py",
   "mimetype": "text/x-python",
   "name": "python",
   "nbconvert_exporter": "python",
   "pygments_lexer": "ipython3",
   "version": "3.12.3"
  }
 },
 "nbformat": 4,
 "nbformat_minor": 5
}
