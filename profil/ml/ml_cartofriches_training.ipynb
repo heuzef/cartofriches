{
  "cells": [
    {
      "cell_type": "markdown",
      "id": "1506d472-22be-490c-aa19-8fce0737d4ce",
      "metadata": {
        "editable": true,
        "id": "1506d472-22be-490c-aa19-8fce0737d4ce",
        "tags": []
      },
      "source": [
        "<div style=\"\n",
        "    background-color:rgb(210, 230, 255);\n",
        "    color:rgb(0, 0, 0);\n",
        "    padding: 10px;\n",
        "    border-radius: 10px;\n",
        "    font-weight: bold;\">\n",
        "<h3>Modèle d'apprentissage automatique pour la prédiction d’usage le plus probable d'une friche en France</h3>\n",
        "<ul>\n",
        "    <li>Dans le cadre du projet PROFIL : https://github.com/heuzef/cartofriches</li>\n",
        "    <li>Auteur : Heuzef (https://heuzef.com)</li>\n",
        "    <li>Juin 2025</li>\n",
        "    <li>Destiné au CEREMA</li>\n",
        "    <li>Les données exploitées sont issues data.gouv.fr, respectant le Standard Friches (version 2022 - rev. v2023-12)</li>\n",
        "</div>"
      ]
    },
    {
      "cell_type": "markdown",
      "id": "7ef26b76",
      "metadata": {
        "id": "7ef26b76"
      },
      "source": [
        "# Import des librairies"
      ]
    },
    {
      "cell_type": "code",
      "execution_count": 1,
      "id": "7d4b0fa5",
      "metadata": {
        "colab": {
          "base_uri": "https://localhost:8080/"
        },
        "id": "7d4b0fa5",
        "outputId": "46a80828-0baf-4942-cc5e-d88680948a97"
      },
      "outputs": [
        {
          "name": "stdout",
          "output_type": "stream",
          "text": [
            "Requirement already satisfied: pandas in /home/heuzef/GIT/cartofriches/.venv/lib/python3.12/site-packages (from -r requirements.txt (line 1)) (2.2.3)\n",
            "Requirement already satisfied: numpy in /home/heuzef/GIT/cartofriches/.venv/lib/python3.12/site-packages (from -r requirements.txt (line 2)) (2.2.6)\n",
            "Requirement already satisfied: matplotlib in /home/heuzef/GIT/cartofriches/.venv/lib/python3.12/site-packages (from -r requirements.txt (line 3)) (3.10.3)\n",
            "Requirement already satisfied: seaborn in /home/heuzef/GIT/cartofriches/.venv/lib/python3.12/site-packages (from -r requirements.txt (line 4)) (0.13.2)\n",
            "Requirement already satisfied: jinja2 in /home/heuzef/GIT/cartofriches/.venv/lib/python3.12/site-packages (from -r requirements.txt (line 5)) (3.1.6)\n",
            "Requirement already satisfied: python-dateutil>=2.8.2 in /home/heuzef/GIT/cartofriches/.venv/lib/python3.12/site-packages (from pandas->-r requirements.txt (line 1)) (2.9.0.post0)\n",
            "Requirement already satisfied: pytz>=2020.1 in /home/heuzef/GIT/cartofriches/.venv/lib/python3.12/site-packages (from pandas->-r requirements.txt (line 1)) (2025.2)\n",
            "Requirement already satisfied: tzdata>=2022.7 in /home/heuzef/GIT/cartofriches/.venv/lib/python3.12/site-packages (from pandas->-r requirements.txt (line 1)) (2025.2)\n",
            "Requirement already satisfied: contourpy>=1.0.1 in /home/heuzef/GIT/cartofriches/.venv/lib/python3.12/site-packages (from matplotlib->-r requirements.txt (line 3)) (1.3.2)\n",
            "Requirement already satisfied: cycler>=0.10 in /home/heuzef/GIT/cartofriches/.venv/lib/python3.12/site-packages (from matplotlib->-r requirements.txt (line 3)) (0.12.1)\n",
            "Requirement already satisfied: fonttools>=4.22.0 in /home/heuzef/GIT/cartofriches/.venv/lib/python3.12/site-packages (from matplotlib->-r requirements.txt (line 3)) (4.58.1)\n",
            "Requirement already satisfied: kiwisolver>=1.3.1 in /home/heuzef/GIT/cartofriches/.venv/lib/python3.12/site-packages (from matplotlib->-r requirements.txt (line 3)) (1.4.8)\n",
            "Requirement already satisfied: packaging>=20.0 in /home/heuzef/GIT/cartofriches/.venv/lib/python3.12/site-packages (from matplotlib->-r requirements.txt (line 3)) (25.0)\n",
            "Requirement already satisfied: pillow>=8 in /home/heuzef/GIT/cartofriches/.venv/lib/python3.12/site-packages (from matplotlib->-r requirements.txt (line 3)) (11.2.1)\n",
            "Requirement already satisfied: pyparsing>=2.3.1 in /home/heuzef/GIT/cartofriches/.venv/lib/python3.12/site-packages (from matplotlib->-r requirements.txt (line 3)) (3.2.3)\n",
            "Requirement already satisfied: MarkupSafe>=2.0 in /home/heuzef/GIT/cartofriches/.venv/lib/python3.12/site-packages (from jinja2->-r requirements.txt (line 5)) (3.0.2)\n",
            "Requirement already satisfied: six>=1.5 in /home/heuzef/GIT/cartofriches/.venv/lib/python3.12/site-packages (from python-dateutil>=2.8.2->pandas->-r requirements.txt (line 1)) (1.17.0)\n"
          ]
        }
      ],
      "source": [
        "!pip install -r requirements.txt"
      ]
    },
    {
      "cell_type": "code",
      "execution_count": 2,
      "id": "37466eaa",
      "metadata": {
        "id": "37466eaa"
      },
      "outputs": [],
      "source": [
        "import pandas as pd\n",
        "pd.set_option('future.no_silent_downcasting', True)\n",
        "import numpy as np\n",
        "import matplotlib.pyplot as plt\n",
        "import seaborn as sns\n",
        "import jinja2\n",
        "import re"
      ]
    },
    {
      "cell_type": "markdown",
      "id": "ca71c9cf",
      "metadata": {
        "id": "ca71c9cf"
      },
      "source": [
        "# Chargement des données"
      ]
    }
  ],
  "metadata": {
    "colab": {
      "provenance": []
    },
    "kernelspec": {
      "display_name": ".venv",
      "language": "python",
      "name": "python3"
    },
    "language_info": {
      "codemirror_mode": {
        "name": "ipython",
        "version": 3
      },
      "file_extension": ".py",
      "mimetype": "text/x-python",
      "name": "python",
      "nbconvert_exporter": "python",
      "pygments_lexer": "ipython3",
      "version": "3.12.9"
    }
  },
  "nbformat": 4,
  "nbformat_minor": 5
}
