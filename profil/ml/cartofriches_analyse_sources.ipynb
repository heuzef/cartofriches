{
 "cells": [
  {
   "cell_type": "markdown",
   "id": "1506d472-22be-490c-aa19-8fce0737d4ce",
   "metadata": {
    "editable": true,
    "id": "1506d472-22be-490c-aa19-8fce0737d4ce",
    "tags": []
   },
   "source": [
    "<div style=\"\n",
    "    background-color:rgb(210, 230, 255);\n",
    "    color:rgb(0, 0, 0);\n",
    "    padding: 10px;\n",
    "    border-radius: 10px;\n",
    "    font-weight: bold;\">\n",
    "<h3>Analyse des 2 sources de données disponible pour Cartofriches pour évaluer leur exploitabilité dans le cadre d'un modèle d'apprentissage automatique</h3>\n",
    "<ul>\n",
    "    <li>Dans le cadre du projet PROFIL : https://github.com/heuzef/cartofriches</li>\n",
    "    <li>Auteur : Heuzef (https://heuzef.com)</li>\n",
    "    <li>Juin 2025</li>\n",
    "    <li>Destiné au CEREMA</li>\n",
    "</ul>\n",
    "</div>"
   ]
  },
  {
   "cell_type": "markdown",
   "id": "7ef26b76",
   "metadata": {},
   "source": [
    "# Import des librairies"
   ]
  },
  {
   "cell_type": "code",
   "execution_count": 1,
   "id": "7d4b0fa5",
   "metadata": {},
   "outputs": [
    {
     "name": "stdout",
     "output_type": "stream",
     "text": [
      "Requirement already satisfied: pandas in /home/heuzef/GIT/cartofriches/.venv/lib/python3.12/site-packages (from -r requirements.txt (line 1)) (2.2.3)\n",
      "Requirement already satisfied: numpy in /home/heuzef/GIT/cartofriches/.venv/lib/python3.12/site-packages (from -r requirements.txt (line 2)) (2.2.6)\n",
      "Requirement already satisfied: matplotlib in /home/heuzef/GIT/cartofriches/.venv/lib/python3.12/site-packages (from -r requirements.txt (line 3)) (3.10.3)\n",
      "Requirement already satisfied: seaborn in /home/heuzef/GIT/cartofriches/.venv/lib/python3.12/site-packages (from -r requirements.txt (line 4)) (0.13.2)\n",
      "Requirement already satisfied: python-dateutil>=2.8.2 in /home/heuzef/GIT/cartofriches/.venv/lib/python3.12/site-packages (from pandas->-r requirements.txt (line 1)) (2.9.0.post0)\n",
      "Requirement already satisfied: pytz>=2020.1 in /home/heuzef/GIT/cartofriches/.venv/lib/python3.12/site-packages (from pandas->-r requirements.txt (line 1)) (2025.2)\n",
      "Requirement already satisfied: tzdata>=2022.7 in /home/heuzef/GIT/cartofriches/.venv/lib/python3.12/site-packages (from pandas->-r requirements.txt (line 1)) (2025.2)\n",
      "Requirement already satisfied: contourpy>=1.0.1 in /home/heuzef/GIT/cartofriches/.venv/lib/python3.12/site-packages (from matplotlib->-r requirements.txt (line 3)) (1.3.2)\n",
      "Requirement already satisfied: cycler>=0.10 in /home/heuzef/GIT/cartofriches/.venv/lib/python3.12/site-packages (from matplotlib->-r requirements.txt (line 3)) (0.12.1)\n",
      "Requirement already satisfied: fonttools>=4.22.0 in /home/heuzef/GIT/cartofriches/.venv/lib/python3.12/site-packages (from matplotlib->-r requirements.txt (line 3)) (4.58.1)\n",
      "Requirement already satisfied: kiwisolver>=1.3.1 in /home/heuzef/GIT/cartofriches/.venv/lib/python3.12/site-packages (from matplotlib->-r requirements.txt (line 3)) (1.4.8)\n",
      "Requirement already satisfied: packaging>=20.0 in /home/heuzef/GIT/cartofriches/.venv/lib/python3.12/site-packages (from matplotlib->-r requirements.txt (line 3)) (25.0)\n",
      "Requirement already satisfied: pillow>=8 in /home/heuzef/GIT/cartofriches/.venv/lib/python3.12/site-packages (from matplotlib->-r requirements.txt (line 3)) (11.2.1)\n",
      "Requirement already satisfied: pyparsing>=2.3.1 in /home/heuzef/GIT/cartofriches/.venv/lib/python3.12/site-packages (from matplotlib->-r requirements.txt (line 3)) (3.2.3)\n",
      "Requirement already satisfied: six>=1.5 in /home/heuzef/GIT/cartofriches/.venv/lib/python3.12/site-packages (from python-dateutil>=2.8.2->pandas->-r requirements.txt (line 1)) (1.17.0)\n"
     ]
    }
   ],
   "source": [
    "!pip install -r requirements.txt"
   ]
  },
  {
   "cell_type": "code",
   "execution_count": 2,
   "id": "37466eaa",
   "metadata": {},
   "outputs": [],
   "source": [
    "import pandas as pd\n",
    "import numpy as np\n",
    "import matplotlib.pyplot as plt\n",
    "import seaborn as sns"
   ]
  },
  {
   "cell_type": "code",
   "execution_count": 3,
   "id": "9f161593-d63b-4a75-a040-b310a20a1da8",
   "metadata": {
    "colab": {
     "base_uri": "https://localhost:8080/",
     "height": 108
    },
    "editable": true,
    "id": "9f161593-d63b-4a75-a040-b310a20a1da8",
    "outputId": "4d7425f0-cd33-4310-a0f5-ef00e3792ce7",
    "tags": []
   },
   "outputs": [
    {
     "name": "stdout",
     "output_type": "stream",
     "text": [
      "Données enrichies de Cartofriches :\n",
      "20367 friches chargées — 11 variables\n",
      "-----\n",
      "Données d'origine de data.gouv.fr :\n",
      "28115 friches chargées — 50 variables\n",
      "-----\n",
      "Il manque 7748 friches dans les données enrichies de Cartofriches, ce problème a déjà été remonté auprès du CEREMA.\n"
     ]
    }
   ],
   "source": [
    "# Chargement des données enrichies de Cartofriches, contient un problème de formatage, l'option on_bad_lines='skip' permet d'ignorer la friche 02684_2572 pose problème.\n",
    "# https://cartofriches.cerema.fr/cartofriches/_w_1ba3f5f6866a4d2fa8e6625cae395be5/#tab-8707-1\n",
    "df_cartofriches = pd.read_csv(\"data/Cartofriches_export_filtres.csv\", sep=\",\", on_bad_lines='skip')\n",
    "\n",
    "# Chargement des données de data.gouv.fr, la 35ème colonne possède des Dtype mixte, l'option low_memory=False permet de contourner le problème.\n",
    "# https://www.data.gouv.fr/fr/datasets/sites-references-dans-cartofriches/#/resources\n",
    "df_datagouvfr = pd.read_csv(\"data/friches-standard.csv\", sep=\";\", low_memory=False)\n",
    "\n",
    "print(\"Données enrichies de Cartofriches :\")\n",
    "print(f\"{df_cartofriches.shape[0]} friches chargées — {df_cartofriches.shape[1]} variables\")\n",
    "print(\"-----\")\n",
    "print(\"Données d'origine de data.gouv.fr :\")\n",
    "print(f\"{df_datagouvfr.shape[0]} friches chargées — {df_datagouvfr.shape[1]} variables\")\n",
    "\n",
    "print(\"-----\")\n",
    "print(f\"Il manque {df_datagouvfr.shape[0] - df_cartofriches.shape[0]} friches dans les données enrichies de Cartofriches, ce problème a déjà été remonté auprès du CEREMA.\")"
   ]
  },
  {
   "cell_type": "markdown",
   "id": "f79a815a",
   "metadata": {},
   "source": [
    "# Liste des variables et comparatifs"
   ]
  },
  {
   "cell_type": "code",
   "execution_count": 4,
   "id": "41512328",
   "metadata": {},
   "outputs": [
    {
     "data": {
      "text/plain": [
       "Index(['Unnamed: 0', 'Identifiant et lien Cartofriches', 'Département',\n",
       "       'Commune', 'Nom du site', 'Producteur de la donnée', 'Statut', 'Type',\n",
       "       'Zonage d'urbanisme', 'Surface (en Ha)',\n",
       "       'Coordonnées GPS (Longitude,Latitude)'],\n",
       "      dtype='object')"
      ]
     },
     "metadata": {},
     "output_type": "display_data"
    },
    {
     "data": {
      "text/plain": [
       "Index(['site_id', 'site_nom', 'site_type', 'site_adresse', 'site_identif_date',\n",
       "       'site_actu_date', 'site_url', 'site_ademe_url', 'site_securite',\n",
       "       'site_occupation', 'site_statut', 'site_projet_url',\n",
       "       'site_reconv_annee', 'site_reconv_type', 'activite_libelle',\n",
       "       'activite_code', 'activite_fin_annee', 'comm_nom', 'comm_insee',\n",
       "       'bati_type', 'bati_nombre', 'bati_surface', 'bati_pollution',\n",
       "       'bati_vacance', 'bati_patrimoine', 'bati_etat', 'local_ancien_annee',\n",
       "       'local_recent_annee', 'proprio_type', 'proprio_personne', 'proprio_nom',\n",
       "       'sol_pollution_annee', 'sol_pollution_existe', 'sol_pollution_origine',\n",
       "       'sol_pollution_commentaire', 'sol_depollution_fiche',\n",
       "       'unite_fonciere_surface', 'unite_fonciere_refcad', 'urba_zone_type',\n",
       "       'urba_zone_lib', 'urba_zone_formdomi', 'urba_doc_type',\n",
       "       'desserte_distance', 'desserte_commentaire', 'source_nom', 'source_url',\n",
       "       'source_producteur', 'source_contact', 'geompoint', 'geomsurf'],\n",
       "      dtype='object')"
      ]
     },
     "metadata": {},
     "output_type": "display_data"
    }
   ],
   "source": [
    "display(df_cartofriches.columns)\n",
    "display(df_datagouvfr.columns)"
   ]
  },
  {
   "cell_type": "markdown",
   "id": "9b4c92ed",
   "metadata": {},
   "source": [
    "<div style=\"\n",
    "    background-color:rgb(210, 230, 255);\n",
    "    color:rgb(0, 0, 0);\n",
    "    padding: 10px;\n",
    "    border-radius: 10px;\n",
    "    font-weight: bold;\">\n",
    "<p>\n",
    "L’enrichissement de données de Cartofriches : https://cartofriches.cerema.fr/cartofriches/_w_f2572f9b9be04b3eb0f21829f2bfbdc3/#tab-5751-2\n",
    "</p>\n",
    "</div>"
   ]
  },
  {
   "cell_type": "markdown",
   "id": "86d68af2",
   "metadata": {},
   "source": [
    "## Indicateurs Cartofriches non existants dans data.gouv.fr (30 indicateurs) :\n",
    "\n",
    "Cartofriches réalise de nombreux enrichissement de données, en proposant plus de 30 indicateurs, que l’on peut regrouper de la manière suivante :\n",
    "\n",
    "### Description de la friche :\n",
    "* Type de propriétaire : Qui détient la friche ? - calculé à partir des fichiers fonciers\n",
    "* Surface de la friche : Quelle est la superficie de la friche et des parcelles qui la compose ? - calculée à partir de la géométrie de la friche\n",
    "* Nombre de bâtis, emprise au sol et coefficient d’emprise au sol : La friche est-elle bâtie ? - calculé à partir de la BDTopo\n",
    "* Pollution du sol : Le sol est-il pollué ? - information renseignée par les observatoires locaux et enrichies par les SIS\n",
    "### Description réglementaire de l’environnement de la friche :\n",
    "* Zonage d’urbanisme : La friche est-elle en zone urbanisée ou urbanisable ? - calculée à partir des données du Géoportail de l’urbanisme\n",
    "* Risques naturels : La friche est-elle soumise à des risques naturels ? - calculée à partir des données du Géoportail de l’urbanisme\n",
    "* Risques technologiques : La friche est-elle soumise à des risques technologiques ? - calculée à partir des données du Géoportail de l’urbanisme\n",
    "* Zonages environnementaux : La friche est-elle sur le périmètre d’une ZNIEFF, une réserve naturelle ou une zone Natura2000 ? - calculée à partir des données du Géoportail de l’urbanisme\n",
    "* Monument historique : La friche est-elle sur un périmètre de 500m autour d’un monument historique ? - calculée à partir des données data.gouv.fr\n",
    "* Zone d’accélération d’énergie renouvelable : La friche est-elle située dans une zone d’accélération d’énergie renouvelable PV au sol ? - calculée à partir des données du portail des EnR\n",
    "* Trame Verte et Bleue : La friche est-elle sur une trame verte et bleue ? - calculée à partir des données du Géoportail de l’urbanisme\n",
    "### Autres descriptions de l’environnement de la friche :\n",
    "* Accessibilité aux transports : gare, échangeur autoroutier - calculée à partir des données data.gouv.fr\n",
    "* Appartenance au centre-bourg : calculée à partir de la distance à la mairie\n",
    "* Proximité aux commerces : calculée à partir des données de la Base Permanente des équipements de l’INSEE\n",
    "* Distance à un poste électrique : calculée à partir des données ENEDIS\n",
    "\n",
    "## Vérification de la présence de l'information dans le standard CNIG\n",
    "\n",
    "- Unnamed: 0 : Index, hors sujet\n",
    "- Commune : Équivalent \"comm_insee\", mais épargne une étape de transformation pour récupérer le nom du département.\n",
    "- Nom du site : Équivalent \"site_nom\"\n",
    "- Producteur de la donnée : Équivalent \"source_producteur\"\n",
    "- Statut : Équivalent \"site_statut\"\n",
    "- Type : Équivalent \"site_type\"\n",
    "- Zonage d'urbanisme : Équivalent \"urba_zone_type\"\n",
    "- Surface (en Ha) : Équivalent de \"unite_fonciere_surface\" en m² converti en Ha\n",
    "- Coordonnées GPS (Longitude,Latitude) : Équivalent \"geompoint\" format WKT\n",
    "\n",
    "## Bilan\n",
    "\n",
    "À ce jour, les données enrichies de Cartofriches ne présentent aucun intérêt pour le Machine Learning. L'état des données de ces deux sources porte à croire que les données \"enrichies\" de Cartofriches ont pour origine la source déjà présente sur data.gouv.fr respectant le format CNIG."
   ]
  }
 ],
 "metadata": {
  "colab": {
   "provenance": [],
   "toc_visible": true
  },
  "kernelspec": {
   "display_name": ".venv",
   "language": "python",
   "name": "python3"
  },
  "language_info": {
   "codemirror_mode": {
    "name": "ipython",
    "version": 3
   },
   "file_extension": ".py",
   "mimetype": "text/x-python",
   "name": "python",
   "nbconvert_exporter": "python",
   "pygments_lexer": "ipython3",
   "version": "3.12.9"
  }
 },
 "nbformat": 4,
 "nbformat_minor": 5
}
